{
 "cells": [
  {
   "cell_type": "code",
   "execution_count": null,
   "metadata": {},
   "outputs": [
    {
     "name": "stdout",
     "output_type": "stream",
     "text": [
      " * Serving Flask app \"__main__\" (lazy loading)\n",
      " * Environment: production\n",
      "   WARNING: Do not use the development server in a production environment.\n",
      "   Use a production WSGI server instead.\n",
      " * Debug mode: on\n"
     ]
    },
    {
     "name": "stderr",
     "output_type": "stream",
     "text": [
      " * Running on http://127.0.0.1:5000/ (Press CTRL+C to quit)\n",
      "C:\\Users\\MUJ\\Anaconda3\\lib\\site-packages\\ipykernel_launcher.py:64: DeprecationWarning: decodestring() is a deprecated alias since Python 3.1, use decodebytes()\n",
      "127.0.0.1 - - [27/Nov/2019 22:16:45] \"\u001b[37mPOST / HTTP/1.1\u001b[0m\" 200 -\n"
     ]
    },
    {
     "name": "stdout",
     "output_type": "stream",
     "text": [
      "{'date': '2017-12-31'}\n"
     ]
    }
   ],
   "source": [
    "from flask import Flask\n",
    "from flask import request\n",
    "from flask import jsonify\n",
    "import dateutil.parser\n",
    "from datetime import datetime\n",
    "\n",
    "import cv2\n",
    "import numpy as np\n",
    "import pytesseract\n",
    "from PIL import Image\n",
    "from pytesseract import image_to_string\n",
    "import imutils\n",
    "import os\n",
    "import base64\n",
    "pytesseract.pytesseract.tesseract_cmd = 'C:\\\\Program Files\\\\Tesseract-OCR\\\\tesseract.exe'\n",
    "\n",
    "\n",
    "\n",
    "\n",
    "# import base64\n",
    "# with open(\"bill.jpg\", \"rb\") as img_file:\n",
    "#     my_string = base64.b64encode(img_file.read())\n",
    "# print(my_string)\n",
    "\n",
    "\n",
    "\n",
    "\n",
    "def get_string(img_path):\n",
    "    img_path=os.path.join(img_path)\n",
    "    img = cv2.imread(img_path,cv2.IMREAD_GRAYSCALE)\n",
    "    img = cv2.cvtColor(img, cv2.COLOR_BGR2RGB)\n",
    "    kernel = np.ones((2, 2), np.uint8)\n",
    "    img=cv2.erode(img,kernel,iterations=1)\n",
    "    #cv2.imwrite(\"thres.png\", img)\n",
    "    result = pytesseract.image_to_string(img)\n",
    "    return result\n",
    "\n",
    "\n",
    "\n",
    "\n",
    "def extract_date(txt):\n",
    "    date_expr1 = r\"\\d{1,2}(?:/|-| )(?:Jan|Feb|Mar|Apr|May|Jun|Jul|Aug|Sep|Oct|Nov|Dec|January|February|March|April|May|June|July|August|September|October|November|December|\\d{1,2})(?:/|-| )\\d{1,4}\"\n",
    "    date_expr2 = r\"(?:Jan|Feb|Mar|Apr|May|Jun|Jul|Aug|Sep|Oct|Nov|Dec|January|February|March|April|May|June|July|August|September|October|November|December)(?:\\ |)\\d{1,2}(?:\\,|')(?:\\ |)\\d{1,4}\"\n",
    "    date_expr3 = r\"\\d{1,2}(?: |)(?:Jan|Feb|Mar|Apr|May|Jun|Jul|Aug|Sep|Oct|Nov|Dec|January|February|March|April|May|June|July|August|September|October|November|December)(?:/|')\\d{1,4}\"\n",
    "\n",
    "    import re\n",
    "    if re.search(date_expr1,txt):\n",
    "        val = re.search(date_expr1,txt).group()\n",
    "    elif re.search(date_expr2,txt):\n",
    "        val = re.search(date_expr2,txt).group()\n",
    "    elif re.search(date_expr3,txt):\n",
    "        val = re.search(date_expr3,txt).group()\n",
    "    else:\n",
    "        val = 'null'\n",
    "    return val\n",
    "\n",
    "\n",
    "\n",
    "\n",
    "\n",
    "filename = 'some_image.jpg'\n",
    "\n",
    "def start_process(my_string):\n",
    "    imgdata = base64.decodestring(my_string)  \n",
    "    with open(filename, 'wb') as f:\n",
    "        f.write(imgdata)\n",
    "\n",
    "    txt = get_string(os.path.join(filename))\n",
    "\n",
    "    resultDate=extract_date(txt)\n",
    "    if resultDate == 'null':\n",
    "        dictonary = {\"date\":resultDate}\n",
    "\n",
    "\n",
    "        print(dictonary)\n",
    "\n",
    "        return dictonary\n",
    "    \n",
    "    newDate= dateutil.parser.parse(resultDate)\n",
    "    \n",
    "    datetimeobject=datetime.strptime(str(newDate), '%Y-%m-%d %H:%M:%S')\n",
    "    \n",
    "    newDate=datetimeobject.strftime('%Y-%m-%d')\n",
    "    dictonary = {\"date\":newDate}\n",
    "\n",
    "\n",
    "    print(dictonary)\n",
    "\n",
    "    return dictonary\n",
    "\n",
    "\n",
    "\n",
    "app = Flask(__name__)\n",
    "\n",
    "@app.route('/', methods=['POST'])\n",
    "def get_tasks():\n",
    "    image_string=request.data\n",
    "    \n",
    "    return jsonify(start_process(image_string))\n",
    "\n",
    "if __name__ == '__main__':\n",
    "    app.run(debug=True,use_reloader = False)\n"
   ]
  },
  {
   "cell_type": "code",
   "execution_count": null,
   "metadata": {},
   "outputs": [],
   "source": [
    "\n"
   ]
  },
  {
   "cell_type": "code",
   "execution_count": null,
   "metadata": {},
   "outputs": [],
   "source": []
  }
 ],
 "metadata": {
  "kernelspec": {
   "display_name": "Python 3",
   "language": "python",
   "name": "python3"
  },
  "language_info": {
   "codemirror_mode": {
    "name": "ipython",
    "version": 3
   },
   "file_extension": ".py",
   "mimetype": "text/x-python",
   "name": "python",
   "nbconvert_exporter": "python",
   "pygments_lexer": "ipython3",
   "version": "3.6.8"
  }
 },
 "nbformat": 4,
 "nbformat_minor": 2
}
